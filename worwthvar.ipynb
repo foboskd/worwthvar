{
 "cells": [
  {
   "cell_type": "markdown",
   "id": "6d497da1",
   "metadata": {},
   "source": [
    "# Домашнее задание по теме «Работа с переменными»"
   ]
  },
  {
   "cell_type": "markdown",
   "id": "884f56a4",
   "metadata": {},
   "source": [
    "## Загрузка данных и импорт необходимых библиотек:"
   ]
  },
  {
   "cell_type": "markdown",
   "id": "7b710c68",
   "metadata": {},
   "source": [
    "Цель: изучить применение методов разведочного анализа данных (EDA) для улучшения качества работы моделей машинного обучения.\n",
    "Описание задания:\n",
    "В домашнем задании нужно улучшить метрики RMSE, R2 модели линейной регрессии путем работы с данными, а именно проведения разведочного анализа данных. В качестве датасета необходимо загрузить данные о недвижимости Калифорнии из библиотеки sklearn.datasets. Целевая переменная – MedHouseVal. Прочитать информацию о признаках датасета можно, выполнив следующий код – print(fetch_california_housing().DESCR)."
   ]
  },
  {
   "cell_type": "code",
   "execution_count": 81,
   "id": "8a8ded2c",
   "metadata": {},
   "outputs": [
    {
     "data": {
      "text/html": [
       "<div>\n",
       "<style scoped>\n",
       "    .dataframe tbody tr th:only-of-type {\n",
       "        vertical-align: middle;\n",
       "    }\n",
       "\n",
       "    .dataframe tbody tr th {\n",
       "        vertical-align: top;\n",
       "    }\n",
       "\n",
       "    .dataframe thead th {\n",
       "        text-align: right;\n",
       "    }\n",
       "</style>\n",
       "<table border=\"1\" class=\"dataframe\">\n",
       "  <thead>\n",
       "    <tr style=\"text-align: right;\">\n",
       "      <th></th>\n",
       "      <th>MedInc</th>\n",
       "      <th>HouseAge</th>\n",
       "      <th>AveRooms</th>\n",
       "      <th>AveBedrms</th>\n",
       "      <th>Population</th>\n",
       "      <th>AveOccup</th>\n",
       "      <th>Latitude</th>\n",
       "      <th>Longitude</th>\n",
       "      <th>MedHouseVal</th>\n",
       "    </tr>\n",
       "  </thead>\n",
       "  <tbody>\n",
       "    <tr>\n",
       "      <th>0</th>\n",
       "      <td>8.3252</td>\n",
       "      <td>41.0</td>\n",
       "      <td>6.984127</td>\n",
       "      <td>1.023810</td>\n",
       "      <td>322.0</td>\n",
       "      <td>2.555556</td>\n",
       "      <td>37.88</td>\n",
       "      <td>-122.23</td>\n",
       "      <td>4.526</td>\n",
       "    </tr>\n",
       "    <tr>\n",
       "      <th>1</th>\n",
       "      <td>8.3014</td>\n",
       "      <td>21.0</td>\n",
       "      <td>6.238137</td>\n",
       "      <td>0.971880</td>\n",
       "      <td>2401.0</td>\n",
       "      <td>2.109842</td>\n",
       "      <td>37.86</td>\n",
       "      <td>-122.22</td>\n",
       "      <td>3.585</td>\n",
       "    </tr>\n",
       "    <tr>\n",
       "      <th>2</th>\n",
       "      <td>7.2574</td>\n",
       "      <td>52.0</td>\n",
       "      <td>8.288136</td>\n",
       "      <td>1.073446</td>\n",
       "      <td>496.0</td>\n",
       "      <td>2.802260</td>\n",
       "      <td>37.85</td>\n",
       "      <td>-122.24</td>\n",
       "      <td>3.521</td>\n",
       "    </tr>\n",
       "    <tr>\n",
       "      <th>3</th>\n",
       "      <td>5.6431</td>\n",
       "      <td>52.0</td>\n",
       "      <td>5.817352</td>\n",
       "      <td>1.073059</td>\n",
       "      <td>558.0</td>\n",
       "      <td>2.547945</td>\n",
       "      <td>37.85</td>\n",
       "      <td>-122.25</td>\n",
       "      <td>3.413</td>\n",
       "    </tr>\n",
       "    <tr>\n",
       "      <th>4</th>\n",
       "      <td>3.8462</td>\n",
       "      <td>52.0</td>\n",
       "      <td>6.281853</td>\n",
       "      <td>1.081081</td>\n",
       "      <td>565.0</td>\n",
       "      <td>2.181467</td>\n",
       "      <td>37.85</td>\n",
       "      <td>-122.25</td>\n",
       "      <td>3.422</td>\n",
       "    </tr>\n",
       "    <tr>\n",
       "      <th>...</th>\n",
       "      <td>...</td>\n",
       "      <td>...</td>\n",
       "      <td>...</td>\n",
       "      <td>...</td>\n",
       "      <td>...</td>\n",
       "      <td>...</td>\n",
       "      <td>...</td>\n",
       "      <td>...</td>\n",
       "      <td>...</td>\n",
       "    </tr>\n",
       "    <tr>\n",
       "      <th>20635</th>\n",
       "      <td>1.5603</td>\n",
       "      <td>25.0</td>\n",
       "      <td>5.045455</td>\n",
       "      <td>1.133333</td>\n",
       "      <td>845.0</td>\n",
       "      <td>2.560606</td>\n",
       "      <td>39.48</td>\n",
       "      <td>-121.09</td>\n",
       "      <td>0.781</td>\n",
       "    </tr>\n",
       "    <tr>\n",
       "      <th>20636</th>\n",
       "      <td>2.5568</td>\n",
       "      <td>18.0</td>\n",
       "      <td>6.114035</td>\n",
       "      <td>1.315789</td>\n",
       "      <td>356.0</td>\n",
       "      <td>3.122807</td>\n",
       "      <td>39.49</td>\n",
       "      <td>-121.21</td>\n",
       "      <td>0.771</td>\n",
       "    </tr>\n",
       "    <tr>\n",
       "      <th>20637</th>\n",
       "      <td>1.7000</td>\n",
       "      <td>17.0</td>\n",
       "      <td>5.205543</td>\n",
       "      <td>1.120092</td>\n",
       "      <td>1007.0</td>\n",
       "      <td>2.325635</td>\n",
       "      <td>39.43</td>\n",
       "      <td>-121.22</td>\n",
       "      <td>0.923</td>\n",
       "    </tr>\n",
       "    <tr>\n",
       "      <th>20638</th>\n",
       "      <td>1.8672</td>\n",
       "      <td>18.0</td>\n",
       "      <td>5.329513</td>\n",
       "      <td>1.171920</td>\n",
       "      <td>741.0</td>\n",
       "      <td>2.123209</td>\n",
       "      <td>39.43</td>\n",
       "      <td>-121.32</td>\n",
       "      <td>0.847</td>\n",
       "    </tr>\n",
       "    <tr>\n",
       "      <th>20639</th>\n",
       "      <td>2.3886</td>\n",
       "      <td>16.0</td>\n",
       "      <td>5.254717</td>\n",
       "      <td>1.162264</td>\n",
       "      <td>1387.0</td>\n",
       "      <td>2.616981</td>\n",
       "      <td>39.37</td>\n",
       "      <td>-121.24</td>\n",
       "      <td>0.894</td>\n",
       "    </tr>\n",
       "  </tbody>\n",
       "</table>\n",
       "<p>20640 rows × 9 columns</p>\n",
       "</div>"
      ],
      "text/plain": [
       "       MedInc  HouseAge  AveRooms  AveBedrms  Population  AveOccup  Latitude  \\\n",
       "0      8.3252      41.0  6.984127   1.023810       322.0  2.555556     37.88   \n",
       "1      8.3014      21.0  6.238137   0.971880      2401.0  2.109842     37.86   \n",
       "2      7.2574      52.0  8.288136   1.073446       496.0  2.802260     37.85   \n",
       "3      5.6431      52.0  5.817352   1.073059       558.0  2.547945     37.85   \n",
       "4      3.8462      52.0  6.281853   1.081081       565.0  2.181467     37.85   \n",
       "...       ...       ...       ...        ...         ...       ...       ...   \n",
       "20635  1.5603      25.0  5.045455   1.133333       845.0  2.560606     39.48   \n",
       "20636  2.5568      18.0  6.114035   1.315789       356.0  3.122807     39.49   \n",
       "20637  1.7000      17.0  5.205543   1.120092      1007.0  2.325635     39.43   \n",
       "20638  1.8672      18.0  5.329513   1.171920       741.0  2.123209     39.43   \n",
       "20639  2.3886      16.0  5.254717   1.162264      1387.0  2.616981     39.37   \n",
       "\n",
       "       Longitude  MedHouseVal  \n",
       "0        -122.23        4.526  \n",
       "1        -122.22        3.585  \n",
       "2        -122.24        3.521  \n",
       "3        -122.25        3.413  \n",
       "4        -122.25        3.422  \n",
       "...          ...          ...  \n",
       "20635    -121.09        0.781  \n",
       "20636    -121.21        0.771  \n",
       "20637    -121.22        0.923  \n",
       "20638    -121.32        0.847  \n",
       "20639    -121.24        0.894  \n",
       "\n",
       "[20640 rows x 9 columns]"
      ]
     },
     "execution_count": 81,
     "metadata": {},
     "output_type": "execute_result"
    }
   ],
   "source": [
    "# импорт библиотек\n",
    "import pandas as pd\n",
    "import numpy as np\n",
    "import matplotlib.pyplot as plt\n",
    "import seaborn as sns\n",
    "from sklearn.datasets import fetch_california_housing\n",
    "from sklearn.model_selection import train_test_split\n",
    "from sklearn.linear_model import LinearRegression\n",
    "from sklearn.metrics import mean_squared_error, r2_score\n",
    "\n",
    "# загрузка данных\n",
    "california = fetch_california_housing()\n",
    "\n",
    "# создание DataFrame\n",
    "df = pd.DataFrame(california.data, columns=california.feature_names)\n",
    "df['MedHouseVal'] = california.target\n",
    "\n",
    "# просмотр первых строк данных\n",
    "df"
   ]
  },
  {
   "cell_type": "markdown",
   "id": "033af58f",
   "metadata": {},
   "source": [
    "## Проверка данных на наличие пропусков:"
   ]
  },
  {
   "cell_type": "markdown",
   "id": "d8e67a03",
   "metadata": {},
   "source": [
    "Проверим, есть ли в данных пропуски, и если они будут найдены, удалим их."
   ]
  },
  {
   "cell_type": "code",
   "execution_count": 82,
   "id": "676e0691",
   "metadata": {},
   "outputs": [
    {
     "data": {
      "text/plain": [
       "MedInc         0\n",
       "HouseAge       0\n",
       "AveRooms       0\n",
       "AveBedrms      0\n",
       "Population     0\n",
       "AveOccup       0\n",
       "Latitude       0\n",
       "Longitude      0\n",
       "MedHouseVal    0\n",
       "dtype: int64"
      ]
     },
     "execution_count": 82,
     "metadata": {},
     "output_type": "execute_result"
    }
   ],
   "source": [
    "# проверка пропусков\n",
    "df.isnull().sum()"
   ]
  },
  {
   "cell_type": "markdown",
   "id": "3961544d",
   "metadata": {},
   "source": [
    "`df.isnull()`: Проверяет каждую ячейку DataFrame и возвращает True, если значение в ячейке null (то есть NaN), и False, если нет. Результатом является DataFrame того же размера, состоящий из логических значений (True/False).\n",
    "\n",
    "`.sum()`: Считает количество значений True для каждого столбца. Поскольку True эквивалентно 1, метод суммирует их, возвращая количество пропущенных значений по каждому столбцу.\n",
    "\n",
    "\n",
    "Таким образом код написанный выше считает колличество пропусков по каждому столбцу и выводит результат выраженный в колличестве таких пропусков."
   ]
  },
  {
   "cell_type": "markdown",
   "id": "1f9b4c1f",
   "metadata": {},
   "source": [
    "Не смотря на отсутствие пропусков в рамках обучения составим код который удаляет строки с пропусками (в лабораторных целях):"
   ]
  },
  {
   "cell_type": "code",
   "execution_count": 83,
   "id": "153e1008",
   "metadata": {},
   "outputs": [
    {
     "data": {
      "text/html": [
       "<div>\n",
       "<style scoped>\n",
       "    .dataframe tbody tr th:only-of-type {\n",
       "        vertical-align: middle;\n",
       "    }\n",
       "\n",
       "    .dataframe tbody tr th {\n",
       "        vertical-align: top;\n",
       "    }\n",
       "\n",
       "    .dataframe thead th {\n",
       "        text-align: right;\n",
       "    }\n",
       "</style>\n",
       "<table border=\"1\" class=\"dataframe\">\n",
       "  <thead>\n",
       "    <tr style=\"text-align: right;\">\n",
       "      <th></th>\n",
       "      <th>MedInc</th>\n",
       "      <th>HouseAge</th>\n",
       "      <th>AveRooms</th>\n",
       "      <th>AveBedrms</th>\n",
       "      <th>Population</th>\n",
       "      <th>AveOccup</th>\n",
       "      <th>Latitude</th>\n",
       "      <th>Longitude</th>\n",
       "      <th>MedHouseVal</th>\n",
       "    </tr>\n",
       "  </thead>\n",
       "  <tbody>\n",
       "    <tr>\n",
       "      <th>0</th>\n",
       "      <td>8.3252</td>\n",
       "      <td>41.0</td>\n",
       "      <td>6.984127</td>\n",
       "      <td>1.023810</td>\n",
       "      <td>322.0</td>\n",
       "      <td>2.555556</td>\n",
       "      <td>37.88</td>\n",
       "      <td>-122.23</td>\n",
       "      <td>4.526</td>\n",
       "    </tr>\n",
       "    <tr>\n",
       "      <th>1</th>\n",
       "      <td>8.3014</td>\n",
       "      <td>21.0</td>\n",
       "      <td>6.238137</td>\n",
       "      <td>0.971880</td>\n",
       "      <td>2401.0</td>\n",
       "      <td>2.109842</td>\n",
       "      <td>37.86</td>\n",
       "      <td>-122.22</td>\n",
       "      <td>3.585</td>\n",
       "    </tr>\n",
       "    <tr>\n",
       "      <th>2</th>\n",
       "      <td>7.2574</td>\n",
       "      <td>52.0</td>\n",
       "      <td>8.288136</td>\n",
       "      <td>1.073446</td>\n",
       "      <td>496.0</td>\n",
       "      <td>2.802260</td>\n",
       "      <td>37.85</td>\n",
       "      <td>-122.24</td>\n",
       "      <td>3.521</td>\n",
       "    </tr>\n",
       "    <tr>\n",
       "      <th>3</th>\n",
       "      <td>5.6431</td>\n",
       "      <td>52.0</td>\n",
       "      <td>5.817352</td>\n",
       "      <td>1.073059</td>\n",
       "      <td>558.0</td>\n",
       "      <td>2.547945</td>\n",
       "      <td>37.85</td>\n",
       "      <td>-122.25</td>\n",
       "      <td>3.413</td>\n",
       "    </tr>\n",
       "    <tr>\n",
       "      <th>4</th>\n",
       "      <td>3.8462</td>\n",
       "      <td>52.0</td>\n",
       "      <td>6.281853</td>\n",
       "      <td>1.081081</td>\n",
       "      <td>565.0</td>\n",
       "      <td>2.181467</td>\n",
       "      <td>37.85</td>\n",
       "      <td>-122.25</td>\n",
       "      <td>3.422</td>\n",
       "    </tr>\n",
       "    <tr>\n",
       "      <th>...</th>\n",
       "      <td>...</td>\n",
       "      <td>...</td>\n",
       "      <td>...</td>\n",
       "      <td>...</td>\n",
       "      <td>...</td>\n",
       "      <td>...</td>\n",
       "      <td>...</td>\n",
       "      <td>...</td>\n",
       "      <td>...</td>\n",
       "    </tr>\n",
       "    <tr>\n",
       "      <th>20635</th>\n",
       "      <td>1.5603</td>\n",
       "      <td>25.0</td>\n",
       "      <td>5.045455</td>\n",
       "      <td>1.133333</td>\n",
       "      <td>845.0</td>\n",
       "      <td>2.560606</td>\n",
       "      <td>39.48</td>\n",
       "      <td>-121.09</td>\n",
       "      <td>0.781</td>\n",
       "    </tr>\n",
       "    <tr>\n",
       "      <th>20636</th>\n",
       "      <td>2.5568</td>\n",
       "      <td>18.0</td>\n",
       "      <td>6.114035</td>\n",
       "      <td>1.315789</td>\n",
       "      <td>356.0</td>\n",
       "      <td>3.122807</td>\n",
       "      <td>39.49</td>\n",
       "      <td>-121.21</td>\n",
       "      <td>0.771</td>\n",
       "    </tr>\n",
       "    <tr>\n",
       "      <th>20637</th>\n",
       "      <td>1.7000</td>\n",
       "      <td>17.0</td>\n",
       "      <td>5.205543</td>\n",
       "      <td>1.120092</td>\n",
       "      <td>1007.0</td>\n",
       "      <td>2.325635</td>\n",
       "      <td>39.43</td>\n",
       "      <td>-121.22</td>\n",
       "      <td>0.923</td>\n",
       "    </tr>\n",
       "    <tr>\n",
       "      <th>20638</th>\n",
       "      <td>1.8672</td>\n",
       "      <td>18.0</td>\n",
       "      <td>5.329513</td>\n",
       "      <td>1.171920</td>\n",
       "      <td>741.0</td>\n",
       "      <td>2.123209</td>\n",
       "      <td>39.43</td>\n",
       "      <td>-121.32</td>\n",
       "      <td>0.847</td>\n",
       "    </tr>\n",
       "    <tr>\n",
       "      <th>20639</th>\n",
       "      <td>2.3886</td>\n",
       "      <td>16.0</td>\n",
       "      <td>5.254717</td>\n",
       "      <td>1.162264</td>\n",
       "      <td>1387.0</td>\n",
       "      <td>2.616981</td>\n",
       "      <td>39.37</td>\n",
       "      <td>-121.24</td>\n",
       "      <td>0.894</td>\n",
       "    </tr>\n",
       "  </tbody>\n",
       "</table>\n",
       "<p>20640 rows × 9 columns</p>\n",
       "</div>"
      ],
      "text/plain": [
       "       MedInc  HouseAge  AveRooms  AveBedrms  Population  AveOccup  Latitude  \\\n",
       "0      8.3252      41.0  6.984127   1.023810       322.0  2.555556     37.88   \n",
       "1      8.3014      21.0  6.238137   0.971880      2401.0  2.109842     37.86   \n",
       "2      7.2574      52.0  8.288136   1.073446       496.0  2.802260     37.85   \n",
       "3      5.6431      52.0  5.817352   1.073059       558.0  2.547945     37.85   \n",
       "4      3.8462      52.0  6.281853   1.081081       565.0  2.181467     37.85   \n",
       "...       ...       ...       ...        ...         ...       ...       ...   \n",
       "20635  1.5603      25.0  5.045455   1.133333       845.0  2.560606     39.48   \n",
       "20636  2.5568      18.0  6.114035   1.315789       356.0  3.122807     39.49   \n",
       "20637  1.7000      17.0  5.205543   1.120092      1007.0  2.325635     39.43   \n",
       "20638  1.8672      18.0  5.329513   1.171920       741.0  2.123209     39.43   \n",
       "20639  2.3886      16.0  5.254717   1.162264      1387.0  2.616981     39.37   \n",
       "\n",
       "       Longitude  MedHouseVal  \n",
       "0        -122.23        4.526  \n",
       "1        -122.22        3.585  \n",
       "2        -122.24        3.521  \n",
       "3        -122.25        3.413  \n",
       "4        -122.25        3.422  \n",
       "...          ...          ...  \n",
       "20635    -121.09        0.781  \n",
       "20636    -121.21        0.771  \n",
       "20637    -121.22        0.923  \n",
       "20638    -121.32        0.847  \n",
       "20639    -121.24        0.894  \n",
       "\n",
       "[20640 rows x 9 columns]"
      ]
     },
     "execution_count": 83,
     "metadata": {},
     "output_type": "execute_result"
    }
   ],
   "source": [
    "# удаление строк с пропусками (если они есть)\n",
    "df.dropna(inplace=True)\n",
    "\n",
    "df"
   ]
  },
  {
   "cell_type": "markdown",
   "id": "c2a09a4d",
   "metadata": {},
   "source": [
    "## Деление выборки и выделение целевой переменной и признаков"
   ]
  },
  {
   "cell_type": "code",
   "execution_count": 84,
   "id": "80a257ec",
   "metadata": {},
   "outputs": [],
   "source": [
    "# сохраняем признаки в Х\n",
    "X = df.drop('MedHouseVal', axis=1)\n",
    "\n",
    "# целевая переменная\n",
    "y = df['MedHouseVal']\n",
    "\n",
    "# разделение данных на обучающую и тестовую выборки\n",
    "X_train, X_test, y_train, y_test = train_test_split(X, y, test_size=0.2, random_state=42)"
   ]
  },
  {
   "cell_type": "markdown",
   "id": "dff71a33",
   "metadata": {},
   "source": [
    "## Построение линейной регрессии "
   ]
  },
  {
   "cell_type": "code",
   "execution_count": 85,
   "id": "de673bb6",
   "metadata": {},
   "outputs": [],
   "source": [
    "# построение модели линейной регрессии\n",
    "model = LinearRegression()\n",
    "model.fit(X_train, y_train)\n",
    "\n",
    "# предсказания на обучающей и тестовой выборках\n",
    "y_train_pred = model.predict(X_train)\n",
    "y_test_pred = model.predict(X_test)"
   ]
  },
  {
   "cell_type": "markdown",
   "id": "d9e2d3b6",
   "metadata": {},
   "source": [
    "__Вычислим метрики `RMSE` и `R²` на обучающей и тестовой выборках.__"
   ]
  },
  {
   "cell_type": "code",
   "execution_count": 86,
   "id": "16d763bd",
   "metadata": {},
   "outputs": [
    {
     "name": "stdout",
     "output_type": "stream",
     "text": [
      "RMSE на обучающей выборке: 0.72\n",
      "RMSE на тестовой выборке: 0.75\n",
      "R² на обучающей выборке: 0.61\n",
      "R² на тестовой выборке: 0.58\n"
     ]
    }
   ],
   "source": [
    "# вычисление метрик\n",
    "rmse_train = np.sqrt(mean_squared_error(y_train, y_train_pred))\n",
    "rmse_test = np.sqrt(mean_squared_error(y_test, y_test_pred))\n",
    "r2_train = r2_score(y_train, y_train_pred)\n",
    "r2_test = r2_score(y_test, y_test_pred)\n",
    "\n",
    "# вывод метрик\n",
    "print(f\"RMSE на обучающей выборке: {rmse_train:.2f}\")\n",
    "print(f\"RMSE на тестовой выборке: {rmse_test:.2f}\")\n",
    "print(f\"R² на обучающей выборке: {r2_train:.2f}\")\n",
    "print(f\"R² на тестовой выборке: {r2_test:.2f}\")"
   ]
  },
  {
   "cell_type": "markdown",
   "id": "3b40fe11",
   "metadata": {},
   "source": [
    "## Построение графика распределения целевой переменной"
   ]
  },
  {
   "cell_type": "code",
   "execution_count": 87,
   "id": "8be98227",
   "metadata": {},
   "outputs": [
    {
     "data": {
      "image/png": "[encoded data removed]",
      "text/plain": [
       "<Figure size 1000x600 with 1 Axes>"
      ]
     },
     "metadata": {},
     "output_type": "display_data"
    }
   ],
   "source": [
    "# График распределения целевой переменной\n",
    "plt.figure(figsize=(10, 6))\n",
    "sns.histplot(df['MedHouseVal'], bins=30, kde=True)\n",
    "plt.title('Распределение MedHouseVal')\n",
    "plt.show()"
   ]
  },
  {
   "cell_type": "markdown",
   "id": "22602124",
   "metadata": {},
   "source": [
    "График показывает наличие выбросов"
   ]
  },
  {
   "cell_type": "markdown",
   "id": "8b32655e",
   "metadata": {},
   "source": [
    "## Корреляционный анализ и удаление признаков:"
   ]
  },
  {
   "cell_type": "code",
   "execution_count": 88,
   "id": "d197bf22",
   "metadata": {},
   "outputs": [
    {
     "data": {
      "image/png": "[encoded data removed]",
      "text/plain": [
       "<Figure size 1200x800 with 2 Axes>"
      ]
     },
     "metadata": {},
     "output_type": "display_data"
    }
   ],
   "source": [
    "# Корреляционная матрица\n",
    "plt.figure(figsize=(12, 8))\n",
    "corr_matrix = df.corr()\n",
    "sns.heatmap(corr_matrix, annot=True, cmap='coolwarm', fmt='.2f')\n",
    "plt.title('Корреляционная матрица')\n",
    "plt.show()"
   ]
  },
  {
   "cell_type": "markdown",
   "id": "21a91eff",
   "metadata": {},
   "source": [
    "На основании корреляционной матрицы можно сделать выводы об удалении признаков, которые могут быть слабо коррелированы с целевой переменной или имеют высокую взаимную корреляцию.\n",
    "\n",
    "Исходя из этого удалим: `MedHouseVal`"
   ]
  },
  {
   "cell_type": "code",
   "execution_count": 89,
   "id": "91d81f88",
   "metadata": {},
   "outputs": [
    {
     "name": "stdout",
     "output_type": "stream",
     "text": [
      "MedHouseVal    1.000000\n",
      "MedInc         0.688075\n",
      "AveRooms       0.151948\n",
      "HouseAge       0.105623\n",
      "AveOccup      -0.023737\n",
      "Population    -0.024650\n",
      "Longitude     -0.045967\n",
      "AveBedrms     -0.046701\n",
      "Latitude      -0.144160\n",
      "Name: MedHouseVal, dtype: float64\n"
     ]
    }
   ],
   "source": [
    "# Предположим, что 'target' — это ваша целевая переменная\n",
    "corr_matrix = df.corr()\n",
    "\n",
    "# Вывод корреляции с целевой переменной\n",
    "print(corr_matrix['MedHouseVal'].sort_values(ascending=False))"
   ]
  },
  {
   "cell_type": "code",
   "execution_count": 90,
   "id": "0225a0e3",
   "metadata": {},
   "outputs": [
    {
     "data": {
      "text/html": [
       "<div>\n",
       "<style scoped>\n",
       "    .dataframe tbody tr th:only-of-type {\n",
       "        vertical-align: middle;\n",
       "    }\n",
       "\n",
       "    .dataframe tbody tr th {\n",
       "        vertical-align: top;\n",
       "    }\n",
       "\n",
       "    .dataframe thead th {\n",
       "        text-align: right;\n",
       "    }\n",
       "</style>\n",
       "<table border=\"1\" class=\"dataframe\">\n",
       "  <thead>\n",
       "    <tr style=\"text-align: right;\">\n",
       "      <th></th>\n",
       "      <th>MedInc</th>\n",
       "      <th>HouseAge</th>\n",
       "      <th>AveRooms</th>\n",
       "      <th>AveBedrms</th>\n",
       "      <th>Longitude</th>\n",
       "      <th>MedHouseVal</th>\n",
       "    </tr>\n",
       "  </thead>\n",
       "  <tbody>\n",
       "    <tr>\n",
       "      <th>0</th>\n",
       "      <td>8.3252</td>\n",
       "      <td>41.0</td>\n",
       "      <td>6.984127</td>\n",
       "      <td>1.023810</td>\n",
       "      <td>-122.23</td>\n",
       "      <td>4.526</td>\n",
       "    </tr>\n",
       "    <tr>\n",
       "      <th>1</th>\n",
       "      <td>8.3014</td>\n",
       "      <td>21.0</td>\n",
       "      <td>6.238137</td>\n",
       "      <td>0.971880</td>\n",
       "      <td>-122.22</td>\n",
       "      <td>3.585</td>\n",
       "    </tr>\n",
       "    <tr>\n",
       "      <th>2</th>\n",
       "      <td>7.2574</td>\n",
       "      <td>52.0</td>\n",
       "      <td>8.288136</td>\n",
       "      <td>1.073446</td>\n",
       "      <td>-122.24</td>\n",
       "      <td>3.521</td>\n",
       "    </tr>\n",
       "    <tr>\n",
       "      <th>3</th>\n",
       "      <td>5.6431</td>\n",
       "      <td>52.0</td>\n",
       "      <td>5.817352</td>\n",
       "      <td>1.073059</td>\n",
       "      <td>-122.25</td>\n",
       "      <td>3.413</td>\n",
       "    </tr>\n",
       "    <tr>\n",
       "      <th>4</th>\n",
       "      <td>3.8462</td>\n",
       "      <td>52.0</td>\n",
       "      <td>6.281853</td>\n",
       "      <td>1.081081</td>\n",
       "      <td>-122.25</td>\n",
       "      <td>3.422</td>\n",
       "    </tr>\n",
       "    <tr>\n",
       "      <th>...</th>\n",
       "      <td>...</td>\n",
       "      <td>...</td>\n",
       "      <td>...</td>\n",
       "      <td>...</td>\n",
       "      <td>...</td>\n",
       "      <td>...</td>\n",
       "    </tr>\n",
       "    <tr>\n",
       "      <th>20635</th>\n",
       "      <td>1.5603</td>\n",
       "      <td>25.0</td>\n",
       "      <td>5.045455</td>\n",
       "      <td>1.133333</td>\n",
       "      <td>-121.09</td>\n",
       "      <td>0.781</td>\n",
       "    </tr>\n",
       "    <tr>\n",
       "      <th>20636</th>\n",
       "      <td>2.5568</td>\n",
       "      <td>18.0</td>\n",
       "      <td>6.114035</td>\n",
       "      <td>1.315789</td>\n",
       "      <td>-121.21</td>\n",
       "      <td>0.771</td>\n",
       "    </tr>\n",
       "    <tr>\n",
       "      <th>20637</th>\n",
       "      <td>1.7000</td>\n",
       "      <td>17.0</td>\n",
       "      <td>5.205543</td>\n",
       "      <td>1.120092</td>\n",
       "      <td>-121.22</td>\n",
       "      <td>0.923</td>\n",
       "    </tr>\n",
       "    <tr>\n",
       "      <th>20638</th>\n",
       "      <td>1.8672</td>\n",
       "      <td>18.0</td>\n",
       "      <td>5.329513</td>\n",
       "      <td>1.171920</td>\n",
       "      <td>-121.32</td>\n",
       "      <td>0.847</td>\n",
       "    </tr>\n",
       "    <tr>\n",
       "      <th>20639</th>\n",
       "      <td>2.3886</td>\n",
       "      <td>16.0</td>\n",
       "      <td>5.254717</td>\n",
       "      <td>1.162264</td>\n",
       "      <td>-121.24</td>\n",
       "      <td>0.894</td>\n",
       "    </tr>\n",
       "  </tbody>\n",
       "</table>\n",
       "<p>20640 rows × 6 columns</p>\n",
       "</div>"
      ],
      "text/plain": [
       "       MedInc  HouseAge  AveRooms  AveBedrms  Longitude  MedHouseVal\n",
       "0      8.3252      41.0  6.984127   1.023810    -122.23        4.526\n",
       "1      8.3014      21.0  6.238137   0.971880    -122.22        3.585\n",
       "2      7.2574      52.0  8.288136   1.073446    -122.24        3.521\n",
       "3      5.6431      52.0  5.817352   1.073059    -122.25        3.413\n",
       "4      3.8462      52.0  6.281853   1.081081    -122.25        3.422\n",
       "...       ...       ...       ...        ...        ...          ...\n",
       "20635  1.5603      25.0  5.045455   1.133333    -121.09        0.781\n",
       "20636  2.5568      18.0  6.114035   1.315789    -121.21        0.771\n",
       "20637  1.7000      17.0  5.205543   1.120092    -121.22        0.923\n",
       "20638  1.8672      18.0  5.329513   1.171920    -121.32        0.847\n",
       "20639  2.3886      16.0  5.254717   1.162264    -121.24        0.894\n",
       "\n",
       "[20640 rows x 6 columns]"
      ]
     },
     "execution_count": 90,
     "metadata": {},
     "output_type": "execute_result"
    }
   ],
   "source": [
    "df.drop(['Latitude'], axis=1, inplace=True)\n",
    "df.drop(['Population'], axis=1, inplace=True)\n",
    "df.drop(['AveOccup'], axis=1, inplace=True)\n",
    "\n",
    "df"
   ]
  },
  {
   "cell_type": "code",
   "execution_count": 91,
   "id": "050921f1",
   "metadata": {},
   "outputs": [],
   "source": [
    "# сохраняем признаки в Х\n",
    "X = df.drop('MedHouseVal', axis=1)\n",
    "\n",
    "# целевая переменная\n",
    "y = df['MedHouseVal']\n",
    "\n",
    "# разделение данных на обучающую и тестовую выборки\n",
    "X_train, X_test, y_train, y_test = train_test_split(X, y, test_size=0.2, random_state=42)"
   ]
  },
  {
   "cell_type": "code",
   "execution_count": 92,
   "id": "5d015b83",
   "metadata": {},
   "outputs": [
    {
     "name": "stdout",
     "output_type": "stream",
     "text": [
      "RMSE на обучающей выборке: 0.78\n",
      "RMSE на тестовой выборке: 0.80\n",
      "R² на обучающей выборке: 0.54\n",
      "R² на тестовой выборке: 0.51\n"
     ]
    }
   ],
   "source": [
    "# построение модели линейной регрессии\n",
    "model = LinearRegression()\n",
    "model.fit(X_train, y_train)\n",
    "\n",
    "# предсказания на обучающей и тестовой выборках\n",
    "y_train_pred = model.predict(X_train)\n",
    "y_test_pred = model.predict(X_test)\n",
    "\n",
    "# вычисление метрик\n",
    "rmse_train = np.sqrt(mean_squared_error(y_train, y_train_pred))\n",
    "rmse_test = np.sqrt(mean_squared_error(y_test, y_test_pred))\n",
    "r2_train = r2_score(y_train, y_train_pred)\n",
    "r2_test = r2_score(y_test, y_test_pred)\n",
    "\n",
    "# вывод метрик\n",
    "print(f\"RMSE на обучающей выборке: {rmse_train:.2f}\")\n",
    "print(f\"RMSE на тестовой выборке: {rmse_test:.2f}\")\n",
    "print(f\"R² на обучающей выборке: {r2_train:.2f}\")\n",
    "print(f\"R² на тестовой выборке: {r2_test:.2f}\")"
   ]
  },
  {
   "cell_type": "code",
   "execution_count": 93,
   "id": "042a9e2f",
   "metadata": {},
   "outputs": [
    {
     "data": {
      "image/png": "[encoded data removed]",
      "text/plain": [
       "<Figure size 1200x800 with 1 Axes>"
      ]
     },
     "metadata": {},
     "output_type": "display_data"
    }
   ],
   "source": [
    "# Диаграммы размаха для признаков\n",
    "plt.figure(figsize=(12, 8))\n",
    "sns.boxplot(data=df)\n",
    "plt.xticks(rotation=90)\n",
    "plt.show()"
   ]
  },
  {
   "cell_type": "code",
   "execution_count": 94,
   "id": "c308232a",
   "metadata": {},
   "outputs": [],
   "source": [
    "# рассчет нижнего и верхнего порогов для каждого признака\n",
    "Q1 = df.quantile(0.25)  # первый квартиль для каждого признака\n",
    "Q3 = df.quantile(0.75)  # третий квартиль для каждого признака\n",
    "IQR = Q3 - Q1           # межквартильный размах\n",
    "\n",
    "# определение нижнего и верхнего порога\n",
    "lower_bound = Q1 - 1.5 * IQR\n",
    "upper_bound = Q3 + 1.5 * IQR\n",
    "\n",
    "# вывод порогов\n",
    "#print(\"Нижние пороги:\\n\", lower_bound)\n",
    "#print(\"\\nВерхние пороги:\\n\", upper_bound)\n",
    "\n",
    "df_s = df[(df['MedInc'] >= lower_bound[0]) & (df['MedInc'] <= upper_bound[0])]\n",
    "df_s = df[(df['HouseAge'] >= lower_bound[1]) & (df['HouseAge'] <= upper_bound[1])]\n",
    "df_s = df[(df['AveRooms'] >= lower_bound[2]) & (df['AveRooms'] <= upper_bound[2])]\n",
    "df_s = df[(df['AveBedrms'] >= lower_bound[3]) & (df['AveBedrms'] <= upper_bound[3])]\n",
    "df_s = df[(df['Longitude'] >= lower_bound[4]) & (df['Longitude'] <= upper_bound[4])]\n",
    "df_s = df[(df['MedHouseVal'] >= lower_bound[5]) & (df['MedHouseVal'] <= upper_bound[5])]"
   ]
  },
  {
   "cell_type": "markdown",
   "id": "ec970dba",
   "metadata": {},
   "source": [
    "Еще раз повторим обучение и деление"
   ]
  },
  {
   "cell_type": "code",
   "execution_count": 95,
   "id": "e92ee305",
   "metadata": {},
   "outputs": [],
   "source": [
    "# сохраняем признаки в Х\n",
    "X = df_s.drop('MedHouseVal', axis=1)\n",
    "\n",
    "# целевая переменная\n",
    "y = df_s['MedHouseVal']\n",
    "\n",
    "# разделение данных на обучающую и тестовую выборки\n",
    "X_train, X_test, y_train, y_test = train_test_split(X, y, test_size=0.2, random_state=42)"
   ]
  },
  {
   "cell_type": "code",
   "execution_count": 96,
   "id": "d7b3319b",
   "metadata": {},
   "outputs": [],
   "source": [
    "# построение модели линейной регрессии\n",
    "model = LinearRegression()\n",
    "model.fit(X_train, y_train)\n",
    "\n",
    "# предсказания на обучающей и тестовой выборках\n",
    "y_train_pred = model.predict(X_train)\n",
    "y_test_pred = model.predict(X_test)"
   ]
  },
  {
   "cell_type": "code",
   "execution_count": 97,
   "id": "263a7901",
   "metadata": {},
   "outputs": [
    {
     "name": "stdout",
     "output_type": "stream",
     "text": [
      "RMSE на обучающей выборке: 0.68\n",
      "RMSE на тестовой выборке: 0.66\n",
      "R² на обучающей выборке: 0.49\n",
      "R² на тестовой выборке: 0.53\n"
     ]
    }
   ],
   "source": [
    "# вычисление метрик\n",
    "rmse_train = np.sqrt(mean_squared_error(y_train, y_train_pred))\n",
    "rmse_test = np.sqrt(mean_squared_error(y_test, y_test_pred))\n",
    "r2_train = r2_score(y_train, y_train_pred)\n",
    "r2_test = r2_score(y_test, y_test_pred)\n",
    "\n",
    "# вывод метрик\n",
    "print(f\"RMSE на обучающей выборке: {rmse_train:.2f}\")\n",
    "print(f\"RMSE на тестовой выборке: {rmse_test:.2f}\")\n",
    "print(f\"R² на обучающей выборке: {r2_train:.2f}\")\n",
    "print(f\"R² на тестовой выборке: {r2_test:.2f}\")"
   ]
  },
  {
   "cell_type": "markdown",
   "id": "f7910fd1",
   "metadata": {},
   "source": [
    "## Математическое преобразование признаков:"
   ]
  },
  {
   "cell_type": "code",
   "execution_count": 102,
   "id": "5161dfaf",
   "metadata": {},
   "outputs": [],
   "source": [
    "# пример преобразования признаков\n",
    "\n",
    "\n",
    "df['MedInc_log'] = np.log(df['MedInc'])  # логарифмирование\n",
    "df['HouseAge_sqrt'] = np.sqrt(df['HouseAge'])  # извлечение корня"
   ]
  },
  {
   "cell_type": "code",
   "execution_count": 103,
   "id": "ab6c8250",
   "metadata": {},
   "outputs": [],
   "source": [
    "# сохраняем признаки в Х\n",
    "X = df.drop('MedHouseVal', axis=1)\n",
    "\n",
    "# целевая переменная\n",
    "y = df['MedHouseVal']\n",
    "\n",
    "# разделение данных на обучающую и тестовую выборки\n",
    "X_train, X_test, y_train, y_test = train_test_split(X, y, test_size=0.2, random_state=42)"
   ]
  },
  {
   "cell_type": "code",
   "execution_count": 104,
   "id": "4f321ddc",
   "metadata": {},
   "outputs": [
    {
     "name": "stdout",
     "output_type": "stream",
     "text": [
      "RMSE на обучающей выборке: 0.78\n",
      "RMSE на тестовой выборке: 0.80\n",
      "R² на обучающей выборке: 0.55\n",
      "R² на тестовой выборке: 0.51\n"
     ]
    }
   ],
   "source": [
    "# построение модели линейной регрессии\n",
    "model = LinearRegression()\n",
    "model.fit(X_train, y_train)\n",
    "\n",
    "# предсказания на обучающей и тестовой выборках\n",
    "y_train_pred = model.predict(X_train)\n",
    "y_test_pred = model.predict(X_test)\n",
    "\n",
    "# вычисление метрик\n",
    "rmse_train = np.sqrt(mean_squared_error(y_train, y_train_pred))\n",
    "rmse_test = np.sqrt(mean_squared_error(y_test, y_test_pred))\n",
    "r2_train = r2_score(y_train, y_train_pred)\n",
    "r2_test = r2_score(y_test, y_test_pred)\n",
    "\n",
    "# вывод метрик\n",
    "print(f\"RMSE на обучающей выборке: {rmse_train:.2f}\")\n",
    "print(f\"RMSE на тестовой выборке: {rmse_test:.2f}\")\n",
    "print(f\"R² на обучающей выборке: {r2_train:.2f}\")\n",
    "print(f\"R² на тестовой выборке: {r2_test:.2f}\")"
   ]
  },
  {
   "cell_type": "markdown",
   "id": "70721d09",
   "metadata": {},
   "source": [
    "## Вывод"
   ]
  },
  {
   "cell_type": "markdown",
   "id": "381fb86f",
   "metadata": {},
   "source": [
    "1) Базовая модель: \n",
    "RMSE на обучающей выборке: 0.72\n",
    "RMSE на тестовой выборке: 0.75\n",
    "R² на обучающей выборке: 0.61\n",
    "R² на тестовой выборке: 0.58\n",
    "\n",
    "Вывод: Базовая модель показывает средние результаты на обеих выборках. Разница между RMSE на обучающей и тестовой выборках незначительна, что говорит о минимальной переобученности, но качество предсказаний (R²) не очень высокое — модель объясняет только около 58% дисперсии данных на тестовой выборке.\n",
    "\n",
    "2) Модель после удаления коррел. признаков:\n",
    "RMSE на обучающей выборке: 0.78\n",
    "RMSE на тестовой выборке: 0.80\n",
    "R² на обучающей выборке: 0.54\n",
    "R² на тестовой выборке: 0.51\n",
    "\n",
    "Вывод: Удаление коррелированных признаков ухудшило качество модели. RMSE увеличилось, а R² снизилось как на обучающей, так и на тестовой выборках. Это говорит о том, что удаление слишком большого количества важных признаков привело к ухудшению предсказательной способности модели.\n",
    "\n",
    "3) Модель после удаления выбросов:\n",
    "RMSE на обучающей выборке: 0.68\n",
    "RMSE на тестовой выборке: 0.66\n",
    "R² на обучающей выборке: 0.49\n",
    "R² на тестовой выборке: 0.53\n",
    "\n",
    "Вывод: Удаление выбросов уменьшило RMSE на обеих выборках, что говорит о том, что модель стала лучше справляться с отклоняющимися значениями. Однако, R² на обучающей выборке заметно снизился (0.49), что может указывать на потерю части информации. Тем не менее, на тестовой выборке качество немного улучшилось (R²=0.53), что можно считать положительным результатом.\n",
    "\n",
    "4) Модель с математическими преобразованиями:\n",
    "RMSE на обучающей выборке: 0.78\n",
    "RMSE на тестовой выборке: 0.80\n",
    "R² на обучающей выборке: 0.55\n",
    "R² на тестовой выборке: 0.51\n",
    "\n",
    "Вывод: Математические преобразования не улучшили метрики модели. RMSE и R² практически аналогичны результатам модели после удаления коррелированных признаков, что свидетельствует о том, что такие преобразования не принесли ожидаемого улучшения.\n"
   ]
  }
 ],
 "metadata": {
  "kernelspec": {
   "display_name": "Python 3 (ipykernel)",
   "language": "python",
   "name": "python3"
  },
  "language_info": {
   "codemirror_mode": {
    "name": "ipython",
    "version": 3
   },
   "file_extension": ".py",
   "mimetype": "text/x-python",
   "name": "python",
   "nbconvert_exporter": "python",
   "pygments_lexer": "ipython3",
   "version": "3.9.6"
  }
 },
 "nbformat": 4,
 "nbformat_minor": 5
}
